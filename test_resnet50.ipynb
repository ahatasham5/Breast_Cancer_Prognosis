{
  "metadata": {
    "kernelspec": {
      "display_name": "Python 3",
      "name": "python3"
    },
    "language_info": {
      "name": "python",
      "version": "3.10.12",
      "mimetype": "text/x-python",
      "codemirror_mode": {
        "name": "ipython",
        "version": 3
      },
      "pygments_lexer": "ipython3",
      "nbconvert_exporter": "python",
      "file_extension": ".py"
    },
    "kaggle": {
      "accelerator": "none",
      "dataSources": [
        {
          "sourceId": 6888070,
          "sourceType": "datasetVersion",
          "datasetId": 3956862
        }
      ],
      "dockerImageVersionId": 30626,
      "isInternetEnabled": false,
      "language": "python",
      "sourceType": "notebook",
      "isGpuEnabled": false
    },
    "colab": {
      "provenance": [],
      "gpuType": "T4",
      "include_colab_link": true
    },
    "accelerator": "GPU"
  },
  "nbformat_minor": 0,
  "nbformat": 4,
  "cells": [
    {
      "cell_type": "markdown",
      "metadata": {
        "id": "view-in-github",
        "colab_type": "text"
      },
      "source": [
        "<a href=\"https://colab.research.google.com/github/ahatasham5/Breast_Cancer_Prognosis/blob/main/test_resnet50.ipynb\" target=\"_parent\"><img src=\"https://colab.research.google.com/assets/colab-badge.svg\" alt=\"Open In Colab\"/></a>"
      ]
    },
    {
      "cell_type": "markdown",
      "source": [
        "# <div style=\"color:yellow;display:inline-block;border-radius:5px;background-color:#007BA7;font-family:Nexa;overflow:hidden\"><p style=\"padding:15px;color:yellow;overflow:hidden;font-size:100%;letter-spacing:0.5px;margin:0\"><b> </b> Import Modules</p></div>"
      ],
      "metadata": {
        "id": "2fUBVSQuAFjB"
      }
    },
    {
      "cell_type": "code",
      "source": [
        "import torch\n",
        "from torchvision import transforms, datasets\n",
        "from torch.utils.data import DataLoader, random_split"
      ],
      "metadata": {
        "id": "gsnbRDhM7prX"
      },
      "execution_count": 1,
      "outputs": []
    },
    {
      "cell_type": "code",
      "source": [
        "import torch\n",
        "import torchvision.models as models\n",
        "from torchvision import transforms, datasets\n",
        "from torch.utils.data import DataLoader, random_split\n",
        "from torch import nn, optim\n",
        "import numpy as np\n",
        "from sklearn.metrics import classification_report, confusion_matrix"
      ],
      "metadata": {
        "id": "aZ8hZTB-7uJB"
      },
      "execution_count": 2,
      "outputs": []
    },
    {
      "cell_type": "code",
      "source": [
        "# Load a pre-trained ResNet model\n",
        "model = models.resnet50(pretrained=True)\n",
        "\n",
        "# Freeze all the parameters in the model\n",
        "for param in model.parameters():\n",
        "    param.requires_grad = False\n",
        "\n",
        "# Replace the final fully connected layer\n",
        "num_ftrs = model.fc.in_features\n",
        "model.fc = nn.Linear(num_ftrs, 1)  # For binary classification\n",
        "\n",
        "# Check if a GPU is available and move the model to GPU if it is\n",
        "device = torch.device(\"cuda:0\" if torch.cuda.is_available() else \"cpu\")\n",
        "model = model.to(device)"
      ],
      "metadata": {
        "colab": {
          "base_uri": "https://localhost:8080/"
        },
        "id": "B1oOdex47zJb",
        "outputId": "115b40b2-d1d5-4f26-96d8-ed07c73c48a4"
      },
      "execution_count": 3,
      "outputs": [
        {
          "output_type": "stream",
          "name": "stderr",
          "text": [
            "/usr/local/lib/python3.10/dist-packages/torchvision/models/_utils.py:208: UserWarning: The parameter 'pretrained' is deprecated since 0.13 and may be removed in the future, please use 'weights' instead.\n",
            "  warnings.warn(\n",
            "/usr/local/lib/python3.10/dist-packages/torchvision/models/_utils.py:223: UserWarning: Arguments other than a weight enum or `None` for 'weights' are deprecated since 0.13 and may be removed in the future. The current behavior is equivalent to passing `weights=ResNet50_Weights.IMAGENET1K_V1`. You can also use `weights=ResNet50_Weights.DEFAULT` to get the most up-to-date weights.\n",
            "  warnings.warn(msg)\n",
            "Downloading: \"https://download.pytorch.org/models/resnet50-0676ba61.pth\" to /root/.cache/torch/hub/checkpoints/resnet50-0676ba61.pth\n",
            "100%|██████████| 97.8M/97.8M [00:01<00:00, 86.2MB/s]\n"
          ]
        }
      ]
    },
    {
      "cell_type": "code",
      "source": [
        "from google.colab import drive\n",
        "drive.mount('/content/drive')"
      ],
      "metadata": {
        "colab": {
          "base_uri": "https://localhost:8080/"
        },
        "id": "PcXWlLLzTHlM",
        "outputId": "eade62fc-184b-4c2e-bf77-41847b7f9eda"
      },
      "execution_count": 4,
      "outputs": [
        {
          "output_type": "stream",
          "name": "stdout",
          "text": [
            "Mounted at /content/drive\n"
          ]
        }
      ]
    },
    {
      "cell_type": "code",
      "source": [
        "%cd /content/drive/MyDrive/Dataset/"
      ],
      "metadata": {
        "colab": {
          "base_uri": "https://localhost:8080/"
        },
        "id": "7uP28BdoUDG7",
        "outputId": "bc186e49-6baa-443e-fa16-c3cdd89d7383"
      },
      "execution_count": 5,
      "outputs": [
        {
          "output_type": "stream",
          "name": "stdout",
          "text": [
            "/content/drive/MyDrive/Dataset\n"
          ]
        }
      ]
    },
    {
      "cell_type": "code",
      "source": [
        "ls"
      ],
      "metadata": {
        "colab": {
          "base_uri": "https://localhost:8080/"
        },
        "id": "sqR0PLCp8Pl2",
        "outputId": "e751255f-9349-4c62-f84b-7706c8595a06"
      },
      "execution_count": 6,
      "outputs": [
        {
          "output_type": "stream",
          "name": "stdout",
          "text": [
            "\u001b[0m\u001b[01;34m'Biglycan breast cancer dataset'\u001b[0m/   model_checkpoint.pth       model_weights_base.pth\n",
            " checkpoint.pth                     model_checkpoint_vgg.pth   model_weights.pth\n"
          ]
        }
      ]
    },
    {
      "cell_type": "code",
      "source": [
        "transform = transforms.Compose([\n",
        "    transforms.Resize((224, 224)),  # Resize the image to 224x224 for ResNet\n",
        "    transforms.ToTensor(),\n",
        "    transforms.Normalize([0.485, 0.456, 0.406], [0.229, 0.224, 0.225])  # Normalization for ResNet\n",
        "])\n",
        "\n",
        "# Load your dataset\n",
        "dataset = datasets.ImageFolder(\"Biglycan breast cancer dataset\", transform=transform)\n",
        "\n",
        "# Splitting dataset into train and validation\n",
        "train_size = int(0.8 * len(dataset))\n",
        "val_size = len(dataset) - train_size\n",
        "train_dataset, val_dataset = random_split(dataset, [train_size, val_size])\n",
        "\n",
        "train_loader = DataLoader(train_dataset, batch_size=32, shuffle=True)\n",
        "val_loader = DataLoader(val_dataset, batch_size=32, shuffle=False)"
      ],
      "metadata": {
        "id": "b7btuRwA77qR"
      },
      "execution_count": 7,
      "outputs": []
    },
    {
      "cell_type": "code",
      "source": [
        "ls"
      ],
      "metadata": {
        "colab": {
          "base_uri": "https://localhost:8080/"
        },
        "id": "TKYtD_LwUGIW",
        "outputId": "16d91dfb-3d54-44b0-c90c-6966cc2d88b0"
      },
      "execution_count": 8,
      "outputs": [
        {
          "output_type": "stream",
          "name": "stdout",
          "text": [
            "\u001b[0m\u001b[01;34m'Biglycan breast cancer dataset'\u001b[0m/   model_checkpoint.pth       model_weights_base.pth\n",
            " checkpoint.pth                     model_checkpoint_vgg.pth   model_weights.pth\n"
          ]
        }
      ]
    },
    {
      "cell_type": "code",
      "source": [
        "criterion = nn.BCEWithLogitsLoss()\n",
        "optimizer = optim.Adam(model.fc.parameters(), lr=0.001)\n"
      ],
      "metadata": {
        "id": "wXKGtWWQ8eLP"
      },
      "execution_count": 9,
      "outputs": []
    },
    {
      "cell_type": "code",
      "source": [
        "ls"
      ],
      "metadata": {
        "colab": {
          "base_uri": "https://localhost:8080/"
        },
        "id": "emfJsA6I8_7V",
        "outputId": "b03b059d-ea5a-4856-86e2-26453b05f092"
      },
      "execution_count": 10,
      "outputs": [
        {
          "output_type": "stream",
          "name": "stdout",
          "text": [
            "\u001b[0m\u001b[01;34m'Biglycan breast cancer dataset'\u001b[0m/   model_checkpoint.pth       model_weights_base.pth\n",
            " checkpoint.pth                     model_checkpoint_vgg.pth   model_weights.pth\n"
          ]
        }
      ]
    },
    {
      "cell_type": "code",
      "source": [
        "import torch\n",
        "\n",
        "# Define the checkpoint file path\n",
        "checkpoint_path = 'model_checkpoint.pth'\n",
        "\n",
        "num_epochs = 100\n",
        "for epoch in range(num_epochs):\n",
        "    model.train()\n",
        "    running_loss = 0.0\n",
        "    for inputs, labels in train_loader:\n",
        "        inputs, labels = inputs.to(device), labels.to(device)\n",
        "        optimizer.zero_grad()\n",
        "        outputs = model(inputs)\n",
        "        loss = criterion(outputs, labels.unsqueeze(1).type_as(outputs))\n",
        "        loss.backward()\n",
        "        optimizer.step()\n",
        "        running_loss += loss.item()\n",
        "\n",
        "    print(f\"Epoch {epoch+1}, Loss: {running_loss/len(train_loader)}\")\n",
        "\n",
        "    # Save the checkpoint after each epoch\n",
        "    torch.save({\n",
        "        'epoch': epoch,\n",
        "        'model_state_dict': model.state_dict(),\n",
        "        'optimizer_state_dict': optimizer.state_dict(),\n",
        "        'loss': running_loss / len(train_loader)\n",
        "    }, checkpoint_path)"
      ],
      "metadata": {
        "colab": {
          "base_uri": "https://localhost:8080/"
        },
        "id": "jiS5UQJ186CJ",
        "outputId": "41fac9d4-4615-4255-d498-195f78330de2"
      },
      "execution_count": 11,
      "outputs": [
        {
          "output_type": "stream",
          "name": "stdout",
          "text": [
            "Epoch 1, Loss: 0.6677789886792501\n",
            "Epoch 2, Loss: 0.5824027591281467\n",
            "Epoch 3, Loss: 0.5062626103560129\n",
            "Epoch 4, Loss: 0.4667011863655514\n",
            "Epoch 5, Loss: 0.44921421342425877\n",
            "Epoch 6, Loss: 0.43551961249775356\n",
            "Epoch 7, Loss: 0.3994907902346717\n",
            "Epoch 8, Loss: 0.3766861723528968\n",
            "Epoch 9, Loss: 0.3735452757941352\n",
            "Epoch 10, Loss: 0.37060950365331435\n",
            "Epoch 11, Loss: 0.3557231691148546\n",
            "Epoch 12, Loss: 0.33490652177068925\n",
            "Epoch 13, Loss: 0.31851011845800614\n",
            "Epoch 14, Loss: 0.3110398120350308\n",
            "Epoch 15, Loss: 0.3090110421180725\n",
            "Epoch 16, Loss: 0.3228032920095656\n",
            "Epoch 17, Loss: 0.2927379409472148\n",
            "Epoch 18, Loss: 0.3034021407365799\n",
            "Epoch 19, Loss: 0.27652835680378807\n",
            "Epoch 20, Loss: 0.26129527390003204\n",
            "Epoch 21, Loss: 0.26826219922966427\n",
            "Epoch 22, Loss: 0.2519734799861908\n",
            "Epoch 23, Loss: 0.27716846267382306\n",
            "Epoch 24, Loss: 0.27040475772486794\n",
            "Epoch 25, Loss: 0.24384324418173897\n",
            "Epoch 26, Loss: 0.23518607020378113\n",
            "Epoch 27, Loss: 0.2366568081908756\n",
            "Epoch 28, Loss: 0.24743236270215777\n",
            "Epoch 29, Loss: 0.2174257371160719\n",
            "Epoch 30, Loss: 0.2163308627075619\n",
            "Epoch 31, Loss: 0.2392261972030004\n",
            "Epoch 32, Loss: 0.24448449744118583\n",
            "Epoch 33, Loss: 0.21476325558291542\n",
            "Epoch 34, Loss: 0.2065561380651262\n",
            "Epoch 35, Loss: 0.2042259242799547\n",
            "Epoch 36, Loss: 0.22518273194630942\n",
            "Epoch 37, Loss: 0.21252900610367456\n",
            "Epoch 38, Loss: 0.2212457921769884\n",
            "Epoch 39, Loss: 0.19022191812594733\n",
            "Epoch 40, Loss: 0.1876097321510315\n",
            "Epoch 41, Loss: 0.2037985606325997\n",
            "Epoch 42, Loss: 0.1821338948276308\n",
            "Epoch 43, Loss: 0.20568734986914528\n",
            "Epoch 44, Loss: 0.2039106653796302\n",
            "Epoch 45, Loss: 0.18585454755359226\n",
            "Epoch 46, Loss: 0.17668860985173118\n",
            "Epoch 47, Loss: 0.21979626185364193\n",
            "Epoch 48, Loss: 0.18531645668877494\n",
            "Epoch 49, Loss: 0.18973818752500746\n",
            "Epoch 50, Loss: 0.14672358830769858\n",
            "Epoch 51, Loss: 0.15819785081677967\n",
            "Epoch 52, Loss: 0.23147213127877977\n",
            "Epoch 53, Loss: 0.17372256269057593\n",
            "Epoch 54, Loss: 0.15276595453421274\n",
            "Epoch 55, Loss: 0.15884372343619665\n",
            "Epoch 56, Loss: 0.19625324838691288\n",
            "Epoch 57, Loss: 0.16693228979905447\n",
            "Epoch 58, Loss: 0.17631260222858852\n",
            "Epoch 59, Loss: 0.16736307409074572\n",
            "Epoch 60, Loss: 0.13790586507982677\n",
            "Epoch 61, Loss: 0.145793074534999\n",
            "Epoch 62, Loss: 0.17831463697883818\n",
            "Epoch 63, Loss: 0.18394183450274998\n",
            "Epoch 64, Loss: 0.142474588420656\n",
            "Epoch 65, Loss: 0.2088006983200709\n",
            "Epoch 66, Loss: 0.14650502552588782\n",
            "Epoch 67, Loss: 0.1507049947977066\n",
            "Epoch 68, Loss: 0.184111797147327\n",
            "Epoch 69, Loss: 0.1620963936050733\n",
            "Epoch 70, Loss: 0.17101668069760004\n",
            "Epoch 71, Loss: 0.1422639646463924\n",
            "Epoch 72, Loss: 0.20777557955847847\n",
            "Epoch 73, Loss: 0.16686786462863287\n",
            "Epoch 74, Loss: 0.22258293628692627\n",
            "Epoch 75, Loss: 0.15983276276124847\n",
            "Epoch 76, Loss: 0.16363730116022956\n",
            "Epoch 77, Loss: 0.13277790364291933\n",
            "Epoch 78, Loss: 0.12863357530699837\n",
            "Epoch 79, Loss: 0.12922010984685686\n",
            "Epoch 80, Loss: 0.15116424279080498\n",
            "Epoch 81, Loss: 0.15989805344078276\n",
            "Epoch 82, Loss: 0.1403647114833196\n",
            "Epoch 83, Loss: 0.13128241731060875\n",
            "Epoch 84, Loss: 0.13736375917991003\n",
            "Epoch 85, Loss: 0.14323022009597886\n",
            "Epoch 86, Loss: 0.17420143551296657\n",
            "Epoch 87, Loss: 0.13739911218484244\n",
            "Epoch 88, Loss: 0.11270340200927523\n",
            "Epoch 89, Loss: 0.15690293576982287\n",
            "Epoch 90, Loss: 0.1421386400858561\n",
            "Epoch 91, Loss: 0.14261555009418064\n",
            "Epoch 92, Loss: 0.12394644899500741\n",
            "Epoch 93, Loss: 0.11710438132286072\n",
            "Epoch 94, Loss: 0.1316476422879431\n",
            "Epoch 95, Loss: 0.14754533850484425\n",
            "Epoch 96, Loss: 0.2144576551185714\n",
            "Epoch 97, Loss: 0.15474202152755526\n",
            "Epoch 98, Loss: 0.15096981078386307\n",
            "Epoch 99, Loss: 0.13234520537985694\n",
            "Epoch 100, Loss: 0.13720140440596473\n"
          ]
        }
      ]
    },
    {
      "cell_type": "code",
      "source": [
        "ls"
      ],
      "metadata": {
        "colab": {
          "base_uri": "https://localhost:8080/"
        },
        "id": "Fo77SsrU-ITI",
        "outputId": "3d75d003-0047-4cc9-ed43-98f95ef4bf7c"
      },
      "execution_count": 12,
      "outputs": [
        {
          "output_type": "stream",
          "name": "stdout",
          "text": [
            "\u001b[0m\u001b[01;34m'Biglycan breast cancer dataset'\u001b[0m/   model_checkpoint.pth       model_weights_base.pth\n",
            " checkpoint.pth                     model_checkpoint_vgg.pth   model_weights.pth\n"
          ]
        }
      ]
    },
    {
      "cell_type": "code",
      "source": [
        "import torch\n",
        "\n",
        "# Define the checkpoint file path\n",
        "checkpoint_path = 'model_checkpoint.pth'\n",
        "\n",
        "# Load the checkpoint\n",
        "checkpoint = torch.load(checkpoint_path)\n",
        "start_epoch = checkpoint['epoch'] + 1\n",
        "model.load_state_dict(checkpoint['model_state_dict'])\n",
        "optimizer.load_state_dict(checkpoint['optimizer_state_dict'])\n",
        "loss = checkpoint['loss']\n",
        "\n",
        "print(f\"Resuming training from epoch {start_epoch}, with loss: {loss}\")\n",
        "\n",
        "num_epochs = 100\n",
        "for epoch in range(start_epoch, num_epochs):\n",
        "    model.train()\n",
        "    running_loss = 0.0\n",
        "    for inputs, labels in train_loader:\n",
        "        inputs, labels = inputs.to(device), labels.to(device)\n",
        "        optimizer.zero_grad()\n",
        "        outputs = model(inputs)\n",
        "        loss = criterion(outputs, labels.unsqueeze(1).type_as(outputs))\n",
        "        loss.backward()\n",
        "        optimizer.step()\n",
        "        running_loss += loss.item()\n",
        "\n",
        "    print(f\"Epoch {epoch+1}, Loss: {running_loss/len(train_loader)}\")\n",
        "\n",
        "    # Save the checkpoint after each epoch\n",
        "    torch.save({\n",
        "        'epoch': epoch,\n",
        "        'model_state_dict': model.state_dict(),\n",
        "        'optimizer_state_dict': optimizer.state_dict(),\n",
        "        'loss': running_loss / len(train_loader)\n",
        "    }, checkpoint_path)"
      ],
      "metadata": {
        "colab": {
          "base_uri": "https://localhost:8080/"
        },
        "id": "HYFAWNVz-UCM",
        "outputId": "96df85c0-6f2d-4ab9-e665-c9bf2ee1fe21"
      },
      "execution_count": 13,
      "outputs": [
        {
          "output_type": "stream",
          "name": "stdout",
          "text": [
            "Resuming training from epoch 100, with loss: 0.13720140440596473\n"
          ]
        }
      ]
    },
    {
      "cell_type": "code",
      "source": [
        "import torch\n",
        "\n",
        "# Load the saved model weights\n",
        "model.load_state_dict(torch.load('model_weights.pth'))"
      ],
      "metadata": {
        "colab": {
          "base_uri": "https://localhost:8080/"
        },
        "id": "crBfjrJnMy-V",
        "outputId": "d5726e2d-240e-43cd-e443-d4eebc4d74c1"
      },
      "execution_count": 14,
      "outputs": [
        {
          "output_type": "execute_result",
          "data": {
            "text/plain": [
              "<All keys matched successfully>"
            ]
          },
          "metadata": {},
          "execution_count": 14
        }
      ]
    },
    {
      "cell_type": "code",
      "source": [
        "import torch\n",
        "\n",
        "# Load the checkpoint\n",
        "checkpoint = torch.load('model_checkpoint.pth')\n",
        "model.load_state_dict(checkpoint['model_state_dict'])\n",
        "\n",
        "# Optionally, you can also load the optimizer state and other saved data\n",
        "optimizer.load_state_dict(checkpoint['optimizer_state_dict'])\n",
        "epoch = checkpoint['epoch']"
      ],
      "metadata": {
        "id": "eIhnmffoM5qJ"
      },
      "execution_count": 15,
      "outputs": []
    },
    {
      "cell_type": "code",
      "source": [
        "model.eval()  # Set model to evaluation mode\n",
        "all_preds = []\n",
        "all_targets = []\n",
        "\n",
        "with torch.no_grad():\n",
        "    for inputs, labels in val_loader:\n",
        "        inputs, labels = inputs.to(device), labels.to(device)\n",
        "        outputs = model(inputs)\n",
        "        preds = torch.sigmoid(outputs) > 0.5\n",
        "        all_preds.extend(preds.cpu().numpy())\n",
        "        all_targets.extend(labels.cpu().numpy())\n",
        "\n",
        "# Calculate and print the evaluation metrics\n",
        "print(\"Confusion Matrix:\")\n",
        "print(confusion_matrix(all_targets, np.array(all_preds).flatten()))\n",
        "\n",
        "print(\"\\nClassification Report:\")\n",
        "print(classification_report(all_targets, np.array(all_preds).flatten(), target_names=['Healthy', 'Cancerous']))\n"
      ],
      "metadata": {
        "colab": {
          "base_uri": "https://localhost:8080/"
        },
        "id": "9GCHoGdJTSnC",
        "outputId": "14aac708-36aa-4b12-e430-aae3194bf182"
      },
      "execution_count": 16,
      "outputs": [
        {
          "output_type": "stream",
          "name": "stdout",
          "text": [
            "Confusion Matrix:\n",
            "[[33  1]\n",
            " [ 6 28]]\n",
            "\n",
            "Classification Report:\n",
            "              precision    recall  f1-score   support\n",
            "\n",
            "     Healthy       0.85      0.97      0.90        34\n",
            "   Cancerous       0.97      0.82      0.89        34\n",
            "\n",
            "    accuracy                           0.90        68\n",
            "   macro avg       0.91      0.90      0.90        68\n",
            "weighted avg       0.91      0.90      0.90        68\n",
            "\n"
          ]
        }
      ]
    },
    {
      "cell_type": "code",
      "source": [
        "model.eval()  # Set the model to evaluation mode\n",
        "correct = 0\n",
        "total = 0\n",
        "\n",
        "with torch.no_grad():\n",
        "    for inputs, labels in val_loader:\n",
        "        inputs, labels = inputs.to(device), labels.to(device)\n",
        "        outputs = model(inputs)\n",
        "\n",
        "        # Apply sigmoid since we used BCEWithLogitsLoss\n",
        "        predicted_probs = torch.sigmoid(outputs)\n",
        "\n",
        "        # Convert probabilities to predicted class (0 or 1)\n",
        "        predicted = predicted_probs > 0.5\n",
        "\n",
        "        total += labels.size(0)\n",
        "        correct += (predicted.flatten() == labels).sum().item()\n",
        "\n",
        "accuracy = correct / total\n",
        "print(f'Accuracy: {accuracy * 100:.2f}%')\n"
      ],
      "metadata": {
        "colab": {
          "base_uri": "https://localhost:8080/"
        },
        "id": "m3YUQjo0TqDf",
        "outputId": "9a4d6e1f-2882-4458-fff4-fc0885b0bb33"
      },
      "execution_count": 17,
      "outputs": [
        {
          "output_type": "stream",
          "name": "stdout",
          "text": [
            "Accuracy: 89.71%\n"
          ]
        }
      ]
    },
    {
      "cell_type": "code",
      "source": [
        "import torch\n",
        "from torchvision import transforms, datasets\n",
        "from torch.utils.data import DataLoader, random_split\n",
        "import torchvision.models as models\n",
        "from torch import nn, optim\n",
        "import numpy as np\n",
        "from sklearn.metrics import classification_report, confusion_matrix, roc_auc_score, roc_curve\n",
        "import matplotlib.pyplot as plt\n",
        "\n",
        "# ... (Previous code for model setup, training, and loading checkpoint)\n",
        "\n",
        "# Evaluation\n",
        "model.eval()  # Set the model to evaluation mode\n",
        "all_preds = []\n",
        "all_targets = []\n",
        "all_probs = []\n",
        "\n",
        "with torch.no_grad():\n",
        "    for inputs, labels in val_loader:\n",
        "        inputs, labels = inputs.to(device), labels.to(device)\n",
        "        outputs = model(inputs)\n",
        "        probs = torch.sigmoid(outputs)  # Get probabilities\n",
        "        preds = (probs > 0.5).float()  # Convert probabilities to predictions\n",
        "        all_preds.extend(preds.cpu().numpy())\n",
        "        all_targets.extend(labels.cpu().numpy())\n",
        "        all_probs.extend(probs.cpu().numpy())\n",
        "\n",
        "# Calculate and print the evaluation metrics\n",
        "print(\"Confusion Matrix:\")\n",
        "print(confusion_matrix(all_targets, np.array(all_preds).flatten()))\n",
        "\n",
        "print(\"\\nClassification Report:\")\n",
        "report = classification_report(all_targets, np.array(all_preds).flatten(), target_names=['Healthy', 'Cancerous'], output_dict=True)\n",
        "print(classification_report(all_targets, np.array(all_preds).flatten(), target_names=['Healthy', 'Cancerous']))\n",
        "\n",
        "# Extract precision, recall, and F1-score from the classification report\n",
        "precision = report['Cancerous']['precision']\n",
        "recall = report['Cancerous']['recall']\n",
        "f1_score = report['Cancerous']['f1-score']\n",
        "\n",
        "accuracy = np.sum(np.array(all_preds).flatten() == np.array(all_targets).flatten()) / len(all_targets)\n",
        "print(f\"\\nAccuracy: {accuracy * 100:.2f}%\")\n",
        "\n",
        "auc = roc_auc_score(all_targets, np.array(all_probs).flatten())\n",
        "print(f\"AUC: {auc:.2f}\")\n",
        "\n",
        "print(f\"Precision: {precision:.2f}\")\n",
        "print(f\"Recall: {recall:.2f}\")\n",
        "print(f\"F1-Score: {f1_score:.2f}\")\n",
        "\n",
        "# Plot the ROC Curve\n",
        "fpr, tpr, thresholds = roc_curve(all_targets, np.array(all_probs).flatten())\n",
        "plt.plot(fpr, tpr, label='ROC curve (AUC = %0.2f)' % auc)\n",
        "plt.plot([0, 1], [0, 1], 'k--')  # Random prediction line\n",
        "plt.xlabel('False Positive Rate (FPR)')\n",
        "plt.ylabel('True Positive Rate (TPR)')\n",
        "plt.title('Receiver Operating Characteristic (ROC) Curve')\n",
        "plt.legend(loc=\"lower right\")\n",
        "plt.show()"
      ],
      "metadata": {
        "colab": {
          "base_uri": "https://localhost:8080/",
          "height": 834
        },
        "id": "2mWRp8HrGHFs",
        "outputId": "06e09da9-5ebd-4617-8026-957e78a83899"
      },
      "execution_count": 18,
      "outputs": [
        {
          "output_type": "stream",
          "name": "stdout",
          "text": [
            "Confusion Matrix:\n",
            "[[33  1]\n",
            " [ 6 28]]\n",
            "\n",
            "Classification Report:\n",
            "              precision    recall  f1-score   support\n",
            "\n",
            "     Healthy       0.85      0.97      0.90        34\n",
            "   Cancerous       0.97      0.82      0.89        34\n",
            "\n",
            "    accuracy                           0.90        68\n",
            "   macro avg       0.91      0.90      0.90        68\n",
            "weighted avg       0.91      0.90      0.90        68\n",
            "\n",
            "\n",
            "Accuracy: 89.71%\n",
            "AUC: 0.99\n",
            "Precision: 0.97\n",
            "Recall: 0.82\n",
            "F1-Score: 0.89\n"
          ]
        },
        {
          "output_type": "display_data",
          "data": {
            "text/plain": [
              "<Figure size 640x480 with 1 Axes>"
            ],
            "image/png": "[encoded data removed]"
          },
          "metadata": {}
        }
      ]
    }
  ]
}