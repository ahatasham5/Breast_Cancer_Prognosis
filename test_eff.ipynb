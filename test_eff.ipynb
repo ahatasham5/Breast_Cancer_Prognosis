{
  "metadata": {
    "kernelspec": {
      "display_name": "Python 3",
      "name": "python3"
    },
    "language_info": {
      "name": "python",
      "version": "3.10.12",
      "mimetype": "text/x-python",
      "codemirror_mode": {
        "name": "ipython",
        "version": 3
      },
      "pygments_lexer": "ipython3",
      "nbconvert_exporter": "python",
      "file_extension": ".py"
    },
    "kaggle": {
      "accelerator": "none",
      "dataSources": [
        {
          "sourceId": 6888070,
          "sourceType": "datasetVersion",
          "datasetId": 3956862
        }
      ],
      "dockerImageVersionId": 30626,
      "isInternetEnabled": false,
      "language": "python",
      "sourceType": "notebook",
      "isGpuEnabled": false
    },
    "colab": {
      "provenance": [],
      "gpuType": "T4",
      "include_colab_link": true
    },
    "accelerator": "GPU"
  },
  "nbformat_minor": 0,
  "nbformat": 4,
  "cells": [
    {
      "cell_type": "markdown",
      "metadata": {
        "id": "view-in-github",
        "colab_type": "text"
      },
      "source": [
        "<a href=\"https://colab.research.google.com/github/ahatasham5/Breast_Cancer_Prognosis/blob/main/test_eff.ipynb\" target=\"_parent\"><img src=\"https://colab.research.google.com/assets/colab-badge.svg\" alt=\"Open In Colab\"/></a>"
      ]
    },
    {
      "cell_type": "markdown",
      "source": [
        "# <div style=\"color:yellow;display:inline-block;border-radius:5px;background-color:#007BA7;font-family:Nexa;overflow:hidden\"><p style=\"padding:15px;color:yellow;overflow:hidden;font-size:100%;letter-spacing:0.5px;margin:0\"><b> </b> Import Modules</p></div>"
      ],
      "metadata": {
        "id": "2fUBVSQuAFjB"
      }
    },
    {
      "cell_type": "code",
      "source": [
        "!pip install efficientnet_pytorch"
      ],
      "metadata": {
        "colab": {
          "base_uri": "https://localhost:8080/"
        },
        "collapsed": true,
        "id": "WNN-zDNF-dhz",
        "outputId": "9f90b4b2-9a14-496f-9e10-2fc00dc750d1"
      },
      "execution_count": 1,
      "outputs": [
        {
          "output_type": "stream",
          "name": "stdout",
          "text": [
            "Collecting efficientnet_pytorch\n",
            "  Downloading efficientnet_pytorch-0.7.1.tar.gz (21 kB)\n",
            "  Preparing metadata (setup.py) ... \u001b[?25l\u001b[?25hdone\n",
            "Requirement already satisfied: torch in /usr/local/lib/python3.10/dist-packages (from efficientnet_pytorch) (2.3.0+cu121)\n",
            "Requirement already satisfied: filelock in /usr/local/lib/python3.10/dist-packages (from torch->efficientnet_pytorch) (3.14.0)\n",
            "Requirement already satisfied: typing-extensions>=4.8.0 in /usr/local/lib/python3.10/dist-packages (from torch->efficientnet_pytorch) (4.12.1)\n",
            "Requirement already satisfied: sympy in /usr/local/lib/python3.10/dist-packages (from torch->efficientnet_pytorch) (1.12.1)\n",
            "Requirement already satisfied: networkx in /usr/local/lib/python3.10/dist-packages (from torch->efficientnet_pytorch) (3.3)\n",
            "Requirement already satisfied: jinja2 in /usr/local/lib/python3.10/dist-packages (from torch->efficientnet_pytorch) (3.1.4)\n",
            "Requirement already satisfied: fsspec in /usr/local/lib/python3.10/dist-packages (from torch->efficientnet_pytorch) (2023.6.0)\n",
            "Collecting nvidia-cuda-nvrtc-cu12==12.1.105 (from torch->efficientnet_pytorch)\n",
            "  Using cached nvidia_cuda_nvrtc_cu12-12.1.105-py3-none-manylinux1_x86_64.whl (23.7 MB)\n",
            "Collecting nvidia-cuda-runtime-cu12==12.1.105 (from torch->efficientnet_pytorch)\n",
            "  Using cached nvidia_cuda_runtime_cu12-12.1.105-py3-none-manylinux1_x86_64.whl (823 kB)\n",
            "Collecting nvidia-cuda-cupti-cu12==12.1.105 (from torch->efficientnet_pytorch)\n",
            "  Using cached nvidia_cuda_cupti_cu12-12.1.105-py3-none-manylinux1_x86_64.whl (14.1 MB)\n",
            "Collecting nvidia-cudnn-cu12==8.9.2.26 (from torch->efficientnet_pytorch)\n",
            "  Using cached nvidia_cudnn_cu12-8.9.2.26-py3-none-manylinux1_x86_64.whl (731.7 MB)\n",
            "Collecting nvidia-cublas-cu12==12.1.3.1 (from torch->efficientnet_pytorch)\n",
            "  Using cached nvidia_cublas_cu12-12.1.3.1-py3-none-manylinux1_x86_64.whl (410.6 MB)\n",
            "Collecting nvidia-cufft-cu12==11.0.2.54 (from torch->efficientnet_pytorch)\n",
            "  Using cached nvidia_cufft_cu12-11.0.2.54-py3-none-manylinux1_x86_64.whl (121.6 MB)\n",
            "Collecting nvidia-curand-cu12==10.3.2.106 (from torch->efficientnet_pytorch)\n",
            "  Using cached nvidia_curand_cu12-10.3.2.106-py3-none-manylinux1_x86_64.whl (56.5 MB)\n",
            "Collecting nvidia-cusolver-cu12==11.4.5.107 (from torch->efficientnet_pytorch)\n",
            "  Using cached nvidia_cusolver_cu12-11.4.5.107-py3-none-manylinux1_x86_64.whl (124.2 MB)\n",
            "Collecting nvidia-cusparse-cu12==12.1.0.106 (from torch->efficientnet_pytorch)\n",
            "  Using cached nvidia_cusparse_cu12-12.1.0.106-py3-none-manylinux1_x86_64.whl (196.0 MB)\n",
            "Collecting nvidia-nccl-cu12==2.20.5 (from torch->efficientnet_pytorch)\n",
            "  Using cached nvidia_nccl_cu12-2.20.5-py3-none-manylinux2014_x86_64.whl (176.2 MB)\n",
            "Collecting nvidia-nvtx-cu12==12.1.105 (from torch->efficientnet_pytorch)\n",
            "  Using cached nvidia_nvtx_cu12-12.1.105-py3-none-manylinux1_x86_64.whl (99 kB)\n",
            "Requirement already satisfied: triton==2.3.0 in /usr/local/lib/python3.10/dist-packages (from torch->efficientnet_pytorch) (2.3.0)\n",
            "Collecting nvidia-nvjitlink-cu12 (from nvidia-cusolver-cu12==11.4.5.107->torch->efficientnet_pytorch)\n",
            "  Downloading nvidia_nvjitlink_cu12-12.5.40-py3-none-manylinux2014_x86_64.whl (21.3 MB)\n",
            "\u001b[2K     \u001b[90m━━━━━━━━━━━━━━━━━━━━━━━━━━━━━━━━━━━━━━━━\u001b[0m \u001b[32m21.3/21.3 MB\u001b[0m \u001b[31m68.9 MB/s\u001b[0m eta \u001b[36m0:00:00\u001b[0m\n",
            "\u001b[?25hRequirement already satisfied: MarkupSafe>=2.0 in /usr/local/lib/python3.10/dist-packages (from jinja2->torch->efficientnet_pytorch) (2.1.5)\n",
            "Requirement already satisfied: mpmath<1.4.0,>=1.1.0 in /usr/local/lib/python3.10/dist-packages (from sympy->torch->efficientnet_pytorch) (1.3.0)\n",
            "Building wheels for collected packages: efficientnet_pytorch\n",
            "  Building wheel for efficientnet_pytorch (setup.py) ... \u001b[?25l\u001b[?25hdone\n",
            "  Created wheel for efficientnet_pytorch: filename=efficientnet_pytorch-0.7.1-py3-none-any.whl size=16429 sha256=00f7e64f86542860e6eca159ea78d1aaab0e8e662ddd4c80a2248d46a356bfde\n",
            "  Stored in directory: /root/.cache/pip/wheels/03/3f/e9/911b1bc46869644912bda90a56bcf7b960f20b5187feea3baf\n",
            "Successfully built efficientnet_pytorch\n",
            "Installing collected packages: nvidia-nvtx-cu12, nvidia-nvjitlink-cu12, nvidia-nccl-cu12, nvidia-curand-cu12, nvidia-cufft-cu12, nvidia-cuda-runtime-cu12, nvidia-cuda-nvrtc-cu12, nvidia-cuda-cupti-cu12, nvidia-cublas-cu12, nvidia-cusparse-cu12, nvidia-cudnn-cu12, nvidia-cusolver-cu12, efficientnet_pytorch\n",
            "Successfully installed efficientnet_pytorch-0.7.1 nvidia-cublas-cu12-12.1.3.1 nvidia-cuda-cupti-cu12-12.1.105 nvidia-cuda-nvrtc-cu12-12.1.105 nvidia-cuda-runtime-cu12-12.1.105 nvidia-cudnn-cu12-8.9.2.26 nvidia-cufft-cu12-11.0.2.54 nvidia-curand-cu12-10.3.2.106 nvidia-cusolver-cu12-11.4.5.107 nvidia-cusparse-cu12-12.1.0.106 nvidia-nccl-cu12-2.20.5 nvidia-nvjitlink-cu12-12.5.40 nvidia-nvtx-cu12-12.1.105\n"
          ]
        }
      ]
    },
    {
      "cell_type": "code",
      "source": [
        "import torch\n",
        "from torchvision import transforms, datasets\n",
        "from torch.utils.data import DataLoader, random_split"
      ],
      "metadata": {
        "id": "gsnbRDhM7prX"
      },
      "execution_count": 10,
      "outputs": []
    },
    {
      "cell_type": "code",
      "source": [
        "import torch\n",
        "import torchvision.models as models\n",
        "from efficientnet_pytorch import EfficientNet\n",
        "from torchvision import transforms, datasets\n",
        "from torch.utils.data import DataLoader, random_split\n",
        "from torch import nn, optim\n",
        "import numpy as np\n",
        "from sklearn.metrics import classification_report, confusion_matrix\n",
        "from torchvision.models.densenet import densenet121"
      ],
      "metadata": {
        "id": "aZ8hZTB-7uJB"
      },
      "execution_count": 11,
      "outputs": []
    },
    {
      "cell_type": "code",
      "source": [
        "# Load a pre-trained ResNet model\n",
        "model = EfficientNet.from_pretrained('efficientnet-b0')\n",
        "\n",
        "# Freeze all the parameters in the model\n",
        "for param in model.parameters():\n",
        "    param.requires_grad = False\n",
        "\n",
        "# Replace the final fully connected layer\n",
        "num_ftrs = model._fc.in_features\n",
        "model._fc = nn.Linear(num_ftrs,1)\n",
        "\n",
        "# Check if a GPU is available and move the model to GPU if it is\n",
        "device = torch.device(\"cuda:0\" if torch.cuda.is_available() else \"cpu\")\n",
        "model = model.to(device)"
      ],
      "metadata": {
        "colab": {
          "base_uri": "https://localhost:8080/"
        },
        "id": "psY4t0GqA22r",
        "outputId": "ab7a6983-d8e1-48f9-902f-0426bcb31892"
      },
      "execution_count": 13,
      "outputs": [
        {
          "output_type": "stream",
          "name": "stdout",
          "text": [
            "Loaded pretrained weights for efficientnet-b0\n"
          ]
        }
      ]
    },
    {
      "cell_type": "code",
      "source": [
        "from google.colab import drive\n",
        "drive.mount('/content/drive')"
      ],
      "metadata": {
        "colab": {
          "base_uri": "https://localhost:8080/"
        },
        "id": "PcXWlLLzTHlM",
        "outputId": "50f2293a-8b93-459f-8db7-695a1e6f8255"
      },
      "execution_count": 14,
      "outputs": [
        {
          "output_type": "stream",
          "name": "stdout",
          "text": [
            "Drive already mounted at /content/drive; to attempt to forcibly remount, call drive.mount(\"/content/drive\", force_remount=True).\n"
          ]
        }
      ]
    },
    {
      "cell_type": "code",
      "source": [
        "ls"
      ],
      "metadata": {
        "colab": {
          "base_uri": "https://localhost:8080/"
        },
        "id": "hSC-T1K1CemS",
        "outputId": "eb443899-aa30-4ce7-a862-3a2b498ed627"
      },
      "execution_count": 15,
      "outputs": [
        {
          "output_type": "stream",
          "name": "stdout",
          "text": [
            "\u001b[0m\u001b[01;34m'Biglycan breast cancer dataset'\u001b[0m/   model_checkpoint_alexnet.pth   model_checkpoint_eff.pth\n"
          ]
        }
      ]
    },
    {
      "cell_type": "code",
      "source": [
        "%cd /content/drive/MyDrive/CSE/"
      ],
      "metadata": {
        "colab": {
          "base_uri": "https://localhost:8080/"
        },
        "id": "7uP28BdoUDG7",
        "outputId": "85efd272-62b0-46b6-dafe-f67bef6ae2a0"
      },
      "execution_count": 16,
      "outputs": [
        {
          "output_type": "stream",
          "name": "stdout",
          "text": [
            "/content/drive/MyDrive/CSE\n"
          ]
        }
      ]
    },
    {
      "cell_type": "code",
      "source": [
        "ls"
      ],
      "metadata": {
        "colab": {
          "base_uri": "https://localhost:8080/"
        },
        "id": "iMMA-DbmCmuh",
        "outputId": "56807a39-5a28-4bce-bfeb-4e3425592de6"
      },
      "execution_count": 17,
      "outputs": [
        {
          "output_type": "stream",
          "name": "stdout",
          "text": [
            "\u001b[0m\u001b[01;34m'Biglycan breast cancer dataset'\u001b[0m/   model_checkpoint_alexnet.pth   model_checkpoint_eff.pth\n"
          ]
        }
      ]
    },
    {
      "cell_type": "code",
      "source": [
        "transform = transforms.Compose([\n",
        "    transforms.Resize((224, 224)),  # Resize the image to 224x224 for ResNet\n",
        "    transforms.ToTensor(),\n",
        "    transforms.Normalize([0.485, 0.456, 0.406], [0.229, 0.224, 0.225])  # Normalization for ResNet\n",
        "])\n",
        "\n",
        "# Load your dataset\n",
        "dataset = datasets.ImageFolder(\"Biglycan breast cancer dataset\", transform=transform)\n",
        "\n",
        "# Splitting dataset into train and validation\n",
        "train_size = int(0.8 * len(dataset))\n",
        "val_size = len(dataset) - train_size\n",
        "train_dataset, val_dataset = random_split(dataset, [train_size, val_size])\n",
        "\n",
        "train_loader = DataLoader(train_dataset, batch_size=32, shuffle=True)\n",
        "val_loader = DataLoader(val_dataset, batch_size=32, shuffle=False)"
      ],
      "metadata": {
        "id": "b7btuRwA77qR"
      },
      "execution_count": 18,
      "outputs": []
    },
    {
      "cell_type": "code",
      "source": [
        "ls"
      ],
      "metadata": {
        "colab": {
          "base_uri": "https://localhost:8080/"
        },
        "id": "TKYtD_LwUGIW",
        "outputId": "08205d49-971e-41aa-ff5d-42afe5763653"
      },
      "execution_count": 19,
      "outputs": [
        {
          "output_type": "stream",
          "name": "stdout",
          "text": [
            "\u001b[0m\u001b[01;34m'Biglycan breast cancer dataset'\u001b[0m/   model_checkpoint_alexnet.pth   model_checkpoint_eff.pth\n"
          ]
        }
      ]
    },
    {
      "cell_type": "code",
      "source": [
        "criterion = nn.BCEWithLogitsLoss()\n",
        "optimizer = optim.Adam(model._fc.parameters(), lr=0.001)"
      ],
      "metadata": {
        "id": "wXKGtWWQ8eLP"
      },
      "execution_count": 20,
      "outputs": []
    },
    {
      "cell_type": "code",
      "source": [
        "ls"
      ],
      "metadata": {
        "colab": {
          "base_uri": "https://localhost:8080/"
        },
        "id": "emfJsA6I8_7V",
        "outputId": "717d375f-02d1-4439-ebfa-f3529d56d4b8"
      },
      "execution_count": null,
      "outputs": [
        {
          "output_type": "stream",
          "name": "stdout",
          "text": [
            "\u001b[0m\u001b[01;34m'Biglycan breast cancer dataset'\u001b[0m/   model_checkpoint_alexnet.pth\n"
          ]
        }
      ]
    },
    {
      "cell_type": "code",
      "source": [
        "import torch\n",
        "\n",
        "# Define the checkpoint file path\n",
        "checkpoint_path = 'model_checkpoint_eff.pth'\n",
        "\n",
        "num_epochs = 100\n",
        "for epoch in range(num_epochs):\n",
        "    model.train()\n",
        "    running_loss = 0.0\n",
        "    for inputs, labels in train_loader:\n",
        "        inputs, labels = inputs.to(device), labels.to(device)\n",
        "        optimizer.zero_grad()\n",
        "        outputs = model(inputs)\n",
        "        loss = criterion(outputs, labels.unsqueeze(1).type_as(outputs))\n",
        "        loss.backward()\n",
        "        optimizer.step()\n",
        "        running_loss += loss.item()\n",
        "\n",
        "    print(f\"Epoch {epoch+1}, Loss: {running_loss/len(train_loader)}\")\n",
        "\n",
        "    # Save the checkpoint after each epoch\n",
        "    torch.save({\n",
        "        'epoch': epoch,\n",
        "        'model_state_dict': model.state_dict(),\n",
        "        'optimizer_state_dict': optimizer.state_dict(),\n",
        "        'loss': running_loss / len(train_loader)\n",
        "    }, checkpoint_path)"
      ],
      "metadata": {
        "colab": {
          "base_uri": "https://localhost:8080/"
        },
        "id": "jiS5UQJ186CJ",
        "outputId": "4751481d-73b3-4ff1-c8c8-0948a9450715"
      },
      "execution_count": 21,
      "outputs": [
        {
          "output_type": "stream",
          "name": "stdout",
          "text": [
            "Epoch 1, Loss: 0.6674839125739204\n",
            "Epoch 2, Loss: 0.6031270490752326\n",
            "Epoch 3, Loss: 0.5557456413904825\n",
            "Epoch 4, Loss: 0.5118759539392259\n",
            "Epoch 5, Loss: 0.49388309319814044\n",
            "Epoch 6, Loss: 0.4629511601395077\n",
            "Epoch 7, Loss: 0.43976744016011554\n",
            "Epoch 8, Loss: 0.430912842353185\n",
            "Epoch 9, Loss: 0.43748114506403607\n",
            "Epoch 10, Loss: 0.39953699376848006\n",
            "Epoch 11, Loss: 0.3961477213435703\n",
            "Epoch 12, Loss: 0.3928907877869076\n",
            "Epoch 13, Loss: 0.35431871480411953\n",
            "Epoch 14, Loss: 0.3900063832600911\n",
            "Epoch 15, Loss: 0.33446841438611347\n",
            "Epoch 16, Loss: 0.33904869688881767\n",
            "Epoch 17, Loss: 0.34276100662019515\n",
            "Epoch 18, Loss: 0.33133505781491596\n",
            "Epoch 19, Loss: 0.3213612304793464\n",
            "Epoch 20, Loss: 0.3390285571416219\n",
            "Epoch 21, Loss: 0.3319825960530175\n",
            "Epoch 22, Loss: 0.2786524064011044\n",
            "Epoch 23, Loss: 0.2916530768076579\n",
            "Epoch 24, Loss: 0.28031251496738857\n",
            "Epoch 25, Loss: 0.2853867775864071\n",
            "Epoch 26, Loss: 0.2748694039053387\n",
            "Epoch 27, Loss: 0.3089437368843291\n",
            "Epoch 28, Loss: 0.2917310396830241\n",
            "Epoch 29, Loss: 0.2634854813416799\n",
            "Epoch 30, Loss: 0.26860031485557556\n",
            "Epoch 31, Loss: 0.2589600268337462\n",
            "Epoch 32, Loss: 0.2817035565773646\n",
            "Epoch 33, Loss: 0.2627605183256997\n",
            "Epoch 34, Loss: 0.2626270469692018\n",
            "Epoch 35, Loss: 0.2547508445050981\n",
            "Epoch 36, Loss: 0.2486183825466368\n",
            "Epoch 37, Loss: 0.24053698281447092\n",
            "Epoch 38, Loss: 0.24682212041483986\n",
            "Epoch 39, Loss: 0.2414452615711424\n",
            "Epoch 40, Loss: 0.25045404665999943\n",
            "Epoch 41, Loss: 0.20534787740972307\n",
            "Epoch 42, Loss: 0.22491276429759133\n",
            "Epoch 43, Loss: 0.24004170464144814\n",
            "Epoch 44, Loss: 0.2197588218583001\n",
            "Epoch 45, Loss: 0.22154287000497183\n",
            "Epoch 46, Loss: 0.2140571971734365\n",
            "Epoch 47, Loss: 0.21904719207021925\n",
            "Epoch 48, Loss: 0.19552356170283425\n",
            "Epoch 49, Loss: 0.260772243142128\n",
            "Epoch 50, Loss: 0.1956622815794415\n",
            "Epoch 51, Loss: 0.2224369612005022\n",
            "Epoch 52, Loss: 0.22260234587722355\n",
            "Epoch 53, Loss: 0.208237091700236\n",
            "Epoch 54, Loss: 0.2169594168663025\n",
            "Epoch 55, Loss: 0.19059858636723626\n",
            "Epoch 56, Loss: 0.18312504059738582\n",
            "Epoch 57, Loss: 0.195790805750423\n",
            "Epoch 58, Loss: 0.15571418321794933\n",
            "Epoch 59, Loss: 0.2253600557645162\n",
            "Epoch 60, Loss: 0.17034605311022866\n",
            "Epoch 61, Loss: 0.19979816675186157\n",
            "Epoch 62, Loss: 0.17673474053541818\n",
            "Epoch 63, Loss: 0.22296495901213753\n",
            "Epoch 64, Loss: 0.16538198126686943\n",
            "Epoch 65, Loss: 0.15135838836431503\n",
            "Epoch 66, Loss: 0.19782297313213348\n",
            "Epoch 67, Loss: 0.20119431614875793\n",
            "Epoch 68, Loss: 0.19848282800780404\n",
            "Epoch 69, Loss: 0.19291437003347608\n",
            "Epoch 70, Loss: 0.17389855451054043\n",
            "Epoch 71, Loss: 0.15387771940893596\n",
            "Epoch 72, Loss: 0.16041375779443318\n",
            "Epoch 73, Loss: 0.16833273404174381\n",
            "Epoch 74, Loss: 0.1643474217918184\n",
            "Epoch 75, Loss: 0.16782724360624948\n",
            "Epoch 76, Loss: 0.14678894893990624\n",
            "Epoch 77, Loss: 0.15368996891710493\n",
            "Epoch 78, Loss: 0.182795407043563\n",
            "Epoch 79, Loss: 0.15128874199257958\n",
            "Epoch 80, Loss: 0.1562759147750007\n",
            "Epoch 81, Loss: 0.15005142076147926\n",
            "Epoch 82, Loss: 0.19739151828818852\n",
            "Epoch 83, Loss: 0.1472875028848648\n",
            "Epoch 84, Loss: 0.19205045451720557\n",
            "Epoch 85, Loss: 0.16534005436632368\n",
            "Epoch 86, Loss: 0.16413907375600603\n",
            "Epoch 87, Loss: 0.14543459564447403\n",
            "Epoch 88, Loss: 0.13951967077122795\n",
            "Epoch 89, Loss: 0.16807871311903\n",
            "Epoch 90, Loss: 0.15327098965644836\n",
            "Epoch 91, Loss: 0.1409669096271197\n",
            "Epoch 92, Loss: 0.13364979293611315\n",
            "Epoch 93, Loss: 0.15443698399596745\n",
            "Epoch 94, Loss: 0.1901140751110183\n",
            "Epoch 95, Loss: 0.12012820111380683\n",
            "Epoch 96, Loss: 0.15182408524884117\n",
            "Epoch 97, Loss: 0.14732610268725288\n",
            "Epoch 98, Loss: 0.14213056448433134\n",
            "Epoch 99, Loss: 0.11578447413113382\n",
            "Epoch 100, Loss: 0.13438912481069565\n"
          ]
        }
      ]
    },
    {
      "cell_type": "code",
      "source": [
        "ls"
      ],
      "metadata": {
        "colab": {
          "base_uri": "https://localhost:8080/"
        },
        "id": "Fo77SsrU-ITI",
        "outputId": "49dc9f95-9727-47cd-ed3c-4b6cf6081290"
      },
      "execution_count": 22,
      "outputs": [
        {
          "output_type": "stream",
          "name": "stdout",
          "text": [
            "\u001b[0m\u001b[01;34m'Biglycan breast cancer dataset'\u001b[0m/   model_checkpoint_alexnet.pth   model_checkpoint_eff.pth\n"
          ]
        }
      ]
    },
    {
      "cell_type": "code",
      "source": [
        "import torch\n",
        "\n",
        "# Define the checkpoint file path\n",
        "checkpoint_path = 'model_checkpoint_eff.pth'\n",
        "\n",
        "# Load the checkpoint\n",
        "checkpoint = torch.load(checkpoint_path)\n",
        "start_epoch = checkpoint['epoch'] + 1\n",
        "model.load_state_dict(checkpoint['model_state_dict'])\n",
        "optimizer.load_state_dict(checkpoint['optimizer_state_dict'])\n",
        "loss = checkpoint['loss']\n",
        "\n",
        "print(f\"Resuming training from epoch {start_epoch}, with loss: {loss}\")\n",
        "\n",
        "num_epochs = 100\n",
        "for epoch in range(start_epoch, num_epochs):\n",
        "    model.train()\n",
        "    running_loss = 0.0\n",
        "    for inputs, labels in train_loader:\n",
        "        inputs, labels = inputs.to(device), labels.to(device)\n",
        "        optimizer.zero_grad()\n",
        "        outputs = model(inputs)\n",
        "        loss = criterion(outputs, labels.unsqueeze(1).type_as(outputs))\n",
        "        loss.backward()\n",
        "        optimizer.step()\n",
        "        running_loss += loss.item()\n",
        "\n",
        "    print(f\"Epoch {epoch+1}, Loss: {running_loss/len(train_loader)}\")\n",
        "\n",
        "    # Save the checkpoint after each epoch\n",
        "    torch.save({\n",
        "        'epoch': epoch,\n",
        "        'model_state_dict': model.state_dict(),\n",
        "        'optimizer_state_dict': optimizer.state_dict(),\n",
        "        'loss': running_loss / len(train_loader)\n",
        "    }, checkpoint_path)"
      ],
      "metadata": {
        "colab": {
          "base_uri": "https://localhost:8080/"
        },
        "id": "HYFAWNVz-UCM",
        "outputId": "10d03868-8e4d-4cde-ada0-773105ca334b"
      },
      "execution_count": 23,
      "outputs": [
        {
          "output_type": "stream",
          "name": "stdout",
          "text": [
            "Resuming training from epoch 100, with loss: 0.13438912481069565\n"
          ]
        }
      ]
    },
    {
      "cell_type": "code",
      "source": [
        "import torch\n",
        "\n",
        "# Load the saved model weights\n",
        "model.load_state_dict(torch.load('model_.pth'))"
      ],
      "metadata": {
        "colab": {
          "base_uri": "https://localhost:8080/",
          "height": 321
        },
        "id": "crBfjrJnMy-V",
        "outputId": "55534ec7-922f-40a1-965d-137922536ae5"
      },
      "execution_count": 24,
      "outputs": [
        {
          "output_type": "error",
          "ename": "FileNotFoundError",
          "evalue": "[Errno 2] No such file or directory: 'model_.pth'",
          "traceback": [
            "\u001b[0;31m---------------------------------------------------------------------------\u001b[0m",
            "\u001b[0;31mFileNotFoundError\u001b[0m                         Traceback (most recent call last)",
            "\u001b[0;32m<ipython-input-24-774343a2b19a>\u001b[0m in \u001b[0;36m<cell line: 4>\u001b[0;34m()\u001b[0m\n\u001b[1;32m      2\u001b[0m \u001b[0;34m\u001b[0m\u001b[0m\n\u001b[1;32m      3\u001b[0m \u001b[0;31m# Load the saved model weights\u001b[0m\u001b[0;34m\u001b[0m\u001b[0;34m\u001b[0m\u001b[0m\n\u001b[0;32m----> 4\u001b[0;31m \u001b[0mmodel\u001b[0m\u001b[0;34m.\u001b[0m\u001b[0mload_state_dict\u001b[0m\u001b[0;34m(\u001b[0m\u001b[0mtorch\u001b[0m\u001b[0;34m.\u001b[0m\u001b[0mload\u001b[0m\u001b[0;34m(\u001b[0m\u001b[0;34m'model_.pth'\u001b[0m\u001b[0;34m)\u001b[0m\u001b[0;34m)\u001b[0m\u001b[0;34m\u001b[0m\u001b[0;34m\u001b[0m\u001b[0m\n\u001b[0m",
            "\u001b[0;32m/usr/local/lib/python3.10/dist-packages/torch/serialization.py\u001b[0m in \u001b[0;36mload\u001b[0;34m(f, map_location, pickle_module, weights_only, mmap, **pickle_load_args)\u001b[0m\n\u001b[1;32m    995\u001b[0m         \u001b[0mpickle_load_args\u001b[0m\u001b[0;34m[\u001b[0m\u001b[0;34m'encoding'\u001b[0m\u001b[0;34m]\u001b[0m \u001b[0;34m=\u001b[0m \u001b[0;34m'utf-8'\u001b[0m\u001b[0;34m\u001b[0m\u001b[0;34m\u001b[0m\u001b[0m\n\u001b[1;32m    996\u001b[0m \u001b[0;34m\u001b[0m\u001b[0m\n\u001b[0;32m--> 997\u001b[0;31m     \u001b[0;32mwith\u001b[0m \u001b[0m_open_file_like\u001b[0m\u001b[0;34m(\u001b[0m\u001b[0mf\u001b[0m\u001b[0;34m,\u001b[0m \u001b[0;34m'rb'\u001b[0m\u001b[0;34m)\u001b[0m \u001b[0;32mas\u001b[0m \u001b[0mopened_file\u001b[0m\u001b[0;34m:\u001b[0m\u001b[0;34m\u001b[0m\u001b[0;34m\u001b[0m\u001b[0m\n\u001b[0m\u001b[1;32m    998\u001b[0m         \u001b[0;32mif\u001b[0m \u001b[0m_is_zipfile\u001b[0m\u001b[0;34m(\u001b[0m\u001b[0mopened_file\u001b[0m\u001b[0;34m)\u001b[0m\u001b[0;34m:\u001b[0m\u001b[0;34m\u001b[0m\u001b[0;34m\u001b[0m\u001b[0m\n\u001b[1;32m    999\u001b[0m             \u001b[0;31m# The zipfile reader is going to advance the current file position.\u001b[0m\u001b[0;34m\u001b[0m\u001b[0;34m\u001b[0m\u001b[0m\n",
            "\u001b[0;32m/usr/local/lib/python3.10/dist-packages/torch/serialization.py\u001b[0m in \u001b[0;36m_open_file_like\u001b[0;34m(name_or_buffer, mode)\u001b[0m\n\u001b[1;32m    442\u001b[0m \u001b[0;32mdef\u001b[0m \u001b[0m_open_file_like\u001b[0m\u001b[0;34m(\u001b[0m\u001b[0mname_or_buffer\u001b[0m\u001b[0;34m,\u001b[0m \u001b[0mmode\u001b[0m\u001b[0;34m)\u001b[0m\u001b[0;34m:\u001b[0m\u001b[0;34m\u001b[0m\u001b[0;34m\u001b[0m\u001b[0m\n\u001b[1;32m    443\u001b[0m     \u001b[0;32mif\u001b[0m \u001b[0m_is_path\u001b[0m\u001b[0;34m(\u001b[0m\u001b[0mname_or_buffer\u001b[0m\u001b[0;34m)\u001b[0m\u001b[0;34m:\u001b[0m\u001b[0;34m\u001b[0m\u001b[0;34m\u001b[0m\u001b[0m\n\u001b[0;32m--> 444\u001b[0;31m         \u001b[0;32mreturn\u001b[0m \u001b[0m_open_file\u001b[0m\u001b[0;34m(\u001b[0m\u001b[0mname_or_buffer\u001b[0m\u001b[0;34m,\u001b[0m \u001b[0mmode\u001b[0m\u001b[0;34m)\u001b[0m\u001b[0;34m\u001b[0m\u001b[0;34m\u001b[0m\u001b[0m\n\u001b[0m\u001b[1;32m    445\u001b[0m     \u001b[0;32melse\u001b[0m\u001b[0;34m:\u001b[0m\u001b[0;34m\u001b[0m\u001b[0;34m\u001b[0m\u001b[0m\n\u001b[1;32m    446\u001b[0m         \u001b[0;32mif\u001b[0m \u001b[0;34m'w'\u001b[0m \u001b[0;32min\u001b[0m \u001b[0mmode\u001b[0m\u001b[0;34m:\u001b[0m\u001b[0;34m\u001b[0m\u001b[0;34m\u001b[0m\u001b[0m\n",
            "\u001b[0;32m/usr/local/lib/python3.10/dist-packages/torch/serialization.py\u001b[0m in \u001b[0;36m__init__\u001b[0;34m(self, name, mode)\u001b[0m\n\u001b[1;32m    423\u001b[0m \u001b[0;32mclass\u001b[0m \u001b[0m_open_file\u001b[0m\u001b[0;34m(\u001b[0m\u001b[0m_opener\u001b[0m\u001b[0;34m)\u001b[0m\u001b[0;34m:\u001b[0m\u001b[0;34m\u001b[0m\u001b[0;34m\u001b[0m\u001b[0m\n\u001b[1;32m    424\u001b[0m     \u001b[0;32mdef\u001b[0m \u001b[0m__init__\u001b[0m\u001b[0;34m(\u001b[0m\u001b[0mself\u001b[0m\u001b[0;34m,\u001b[0m \u001b[0mname\u001b[0m\u001b[0;34m,\u001b[0m \u001b[0mmode\u001b[0m\u001b[0;34m)\u001b[0m\u001b[0;34m:\u001b[0m\u001b[0;34m\u001b[0m\u001b[0;34m\u001b[0m\u001b[0m\n\u001b[0;32m--> 425\u001b[0;31m         \u001b[0msuper\u001b[0m\u001b[0;34m(\u001b[0m\u001b[0;34m)\u001b[0m\u001b[0;34m.\u001b[0m\u001b[0m__init__\u001b[0m\u001b[0;34m(\u001b[0m\u001b[0mopen\u001b[0m\u001b[0;34m(\u001b[0m\u001b[0mname\u001b[0m\u001b[0;34m,\u001b[0m \u001b[0mmode\u001b[0m\u001b[0;34m)\u001b[0m\u001b[0;34m)\u001b[0m\u001b[0;34m\u001b[0m\u001b[0;34m\u001b[0m\u001b[0m\n\u001b[0m\u001b[1;32m    426\u001b[0m \u001b[0;34m\u001b[0m\u001b[0m\n\u001b[1;32m    427\u001b[0m     \u001b[0;32mdef\u001b[0m \u001b[0m__exit__\u001b[0m\u001b[0;34m(\u001b[0m\u001b[0mself\u001b[0m\u001b[0;34m,\u001b[0m \u001b[0;34m*\u001b[0m\u001b[0margs\u001b[0m\u001b[0;34m)\u001b[0m\u001b[0;34m:\u001b[0m\u001b[0;34m\u001b[0m\u001b[0;34m\u001b[0m\u001b[0m\n",
            "\u001b[0;31mFileNotFoundError\u001b[0m: [Errno 2] No such file or directory: 'model_.pth'"
          ]
        }
      ]
    },
    {
      "cell_type": "code",
      "source": [
        "import torch\n",
        "\n",
        "# Load the checkpoint\n",
        "checkpoint = torch.load('model_checkpoint_eff.pth')\n",
        "model.load_state_dict(checkpoint['model_state_dict'])\n",
        "\n",
        "# Optionally, you can also load the optimizer state and other saved data\n",
        "optimizer.load_state_dict(checkpoint['optimizer_state_dict'])\n",
        "epoch = checkpoint['epoch']"
      ],
      "metadata": {
        "id": "eIhnmffoM5qJ"
      },
      "execution_count": 25,
      "outputs": []
    },
    {
      "cell_type": "code",
      "source": [
        "model.eval()  # Set model to evaluation mode\n",
        "all_preds = []\n",
        "all_targets = []\n",
        "\n",
        "with torch.no_grad():\n",
        "    for inputs, labels in val_loader:\n",
        "        inputs, labels = inputs.to(device), labels.to(device)\n",
        "        outputs = model(inputs)\n",
        "        preds = torch.sigmoid(outputs) > 0.5\n",
        "        all_preds.extend(preds.cpu().numpy())\n",
        "        all_targets.extend(labels.cpu().numpy())\n",
        "\n",
        "# Calculate and print the evaluation metrics\n",
        "print(\"Confusion Matrix:\")\n",
        "print(confusion_matrix(all_targets, np.array(all_preds).flatten()))\n",
        "\n",
        "print(\"\\nClassification Report:\")\n",
        "print(classification_report(all_targets, np.array(all_preds).flatten(), target_names=['Healthy', 'Cancerous']))\n"
      ],
      "metadata": {
        "colab": {
          "base_uri": "https://localhost:8080/"
        },
        "id": "9GCHoGdJTSnC",
        "outputId": "c9ff0a6c-f17c-4d0e-8f6d-04e9c815aa83"
      },
      "execution_count": 26,
      "outputs": [
        {
          "output_type": "stream",
          "name": "stdout",
          "text": [
            "Confusion Matrix:\n",
            "[[36  5]\n",
            " [ 4 23]]\n",
            "\n",
            "Classification Report:\n",
            "              precision    recall  f1-score   support\n",
            "\n",
            "     Healthy       0.90      0.88      0.89        41\n",
            "   Cancerous       0.82      0.85      0.84        27\n",
            "\n",
            "    accuracy                           0.87        68\n",
            "   macro avg       0.86      0.86      0.86        68\n",
            "weighted avg       0.87      0.87      0.87        68\n",
            "\n"
          ]
        }
      ]
    },
    {
      "cell_type": "code",
      "source": [
        "model.eval()  # Set the model to evaluation mode\n",
        "correct = 0\n",
        "total = 0\n",
        "\n",
        "with torch.no_grad():\n",
        "    for inputs, labels in val_loader:\n",
        "        inputs, labels = inputs.to(device), labels.to(device)\n",
        "        outputs = model(inputs)\n",
        "\n",
        "        # Apply sigmoid since we used BCEWithLogitsLoss\n",
        "        predicted_probs = torch.sigmoid(outputs)\n",
        "\n",
        "        # Convert probabilities to predicted class (0 or 1)\n",
        "        predicted = predicted_probs > 0.5\n",
        "\n",
        "        total += labels.size(0)\n",
        "        correct += (predicted.flatten() == labels).sum().item()\n",
        "\n",
        "accuracy = correct / total\n",
        "print(f'Accuracy: {accuracy * 100:.2f}%')\n"
      ],
      "metadata": {
        "colab": {
          "base_uri": "https://localhost:8080/"
        },
        "id": "m3YUQjo0TqDf",
        "outputId": "b5cc14e8-4289-450f-b05c-d75e7fb47a8c"
      },
      "execution_count": 27,
      "outputs": [
        {
          "output_type": "stream",
          "name": "stdout",
          "text": [
            "Accuracy: 86.76%\n"
          ]
        }
      ]
    },
    {
      "cell_type": "code",
      "source": [
        "import torch\n",
        "from torchvision import transforms, datasets\n",
        "from torch.utils.data import DataLoader, random_split\n",
        "import torchvision.models as models\n",
        "from torch import nn, optim\n",
        "import numpy as np\n",
        "from sklearn.metrics import classification_report, confusion_matrix, roc_auc_score, roc_curve\n",
        "import matplotlib.pyplot as plt\n",
        "\n",
        "# ... (Previous code for model setup, training, and loading checkpoint)\n",
        "\n",
        "# Evaluation\n",
        "model.eval()  # Set the model to evaluation mode\n",
        "all_preds = []\n",
        "all_targets = []\n",
        "all_probs = []\n",
        "\n",
        "with torch.no_grad():\n",
        "    for inputs, labels in val_loader:\n",
        "        inputs, labels = inputs.to(device), labels.to(device)\n",
        "        outputs = model(inputs)\n",
        "        probs = torch.sigmoid(outputs)  # Get probabilities\n",
        "        preds = (probs > 0.5).float()  # Convert probabilities to predictions\n",
        "        all_preds.extend(preds.cpu().numpy())\n",
        "        all_targets.extend(labels.cpu().numpy())\n",
        "        all_probs.extend(probs.cpu().numpy())\n",
        "\n",
        "# Calculate and print the evaluation metrics\n",
        "print(\"Confusion Matrix:\")\n",
        "print(confusion_matrix(all_targets, np.array(all_preds).flatten()))\n",
        "\n",
        "print(\"\\nClassification Report:\")\n",
        "report = classification_report(all_targets, np.array(all_preds).flatten(), target_names=['Healthy', 'Cancerous'], output_dict=True)\n",
        "print(classification_report(all_targets, np.array(all_preds).flatten(), target_names=['Healthy', 'Cancerous']))\n",
        "\n",
        "# Extract precision, recall, and F1-score from the classification report\n",
        "precision = report['Cancerous']['precision']\n",
        "recall = report['Cancerous']['recall']\n",
        "f1_score = report['Cancerous']['f1-score']\n",
        "\n",
        "accuracy = np.sum(np.array(all_preds).flatten() == np.array(all_targets).flatten()) / len(all_targets)\n",
        "print(f\"\\nAccuracy: {accuracy * 100:.2f}%\")\n",
        "\n",
        "auc = roc_auc_score(all_targets, np.array(all_probs).flatten())\n",
        "print(f\"AUC: {auc:.2f}\")\n",
        "\n",
        "print(f\"Precision: {precision:.2f}\")\n",
        "print(f\"Recall: {recall:.2f}\")\n",
        "print(f\"F1-Score: {f1_score:.2f}\")\n",
        "\n",
        "# Plot the ROC Curve\n",
        "fpr, tpr, thresholds = roc_curve(all_targets, np.array(all_probs).flatten())\n",
        "plt.plot(fpr, tpr, label='ROC curve (AUC = %0.2f)' % auc)\n",
        "plt.plot([0, 1], [0, 1], 'k--')  # Random prediction line\n",
        "plt.xlabel('False Positive Rate (FPR)')\n",
        "plt.ylabel('True Positive Rate (TPR)')\n",
        "plt.title('Receiver Operating Characteristic (ROC) Curve')\n",
        "plt.legend(loc=\"lower right\")\n",
        "plt.show()"
      ],
      "metadata": {
        "id": "RL57uKjEKZdv",
        "outputId": "f90d0029-ce2b-42f5-8b0b-286be38f2735",
        "colab": {
          "base_uri": "https://localhost:8080/",
          "height": 819
        }
      },
      "execution_count": 28,
      "outputs": [
        {
          "output_type": "stream",
          "name": "stdout",
          "text": [
            "Confusion Matrix:\n",
            "[[36  5]\n",
            " [ 4 23]]\n",
            "\n",
            "Classification Report:\n",
            "              precision    recall  f1-score   support\n",
            "\n",
            "     Healthy       0.90      0.88      0.89        41\n",
            "   Cancerous       0.82      0.85      0.84        27\n",
            "\n",
            "    accuracy                           0.87        68\n",
            "   macro avg       0.86      0.86      0.86        68\n",
            "weighted avg       0.87      0.87      0.87        68\n",
            "\n",
            "\n",
            "Accuracy: 86.76%\n",
            "AUC: 0.95\n",
            "Precision: 0.82\n",
            "Recall: 0.85\n",
            "F1-Score: 0.84\n"
          ]
        },
        {
          "output_type": "display_data",
          "data": {
            "text/plain": [
              "<Figure size 640x480 with 1 Axes>"
            ],
            "image/png": "[encoded data removed]"
          },
          "metadata": {}
        }
      ]
    }
  ]
}