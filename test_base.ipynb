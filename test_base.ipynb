{
  "nbformat": 4,
  "nbformat_minor": 0,
  "metadata": {
    "colab": {
      "provenance": [],
      "gpuType": "T4",
      "authorship_tag": "ABX9TyNvobRbJap/4KXapFV7mAiI",
      "include_colab_link": true
    },
    "kernelspec": {
      "name": "python3",
      "display_name": "Python 3"
    },
    "language_info": {
      "name": "python"
    },
    "accelerator": "GPU"
  },
  "cells": [
    {
      "cell_type": "markdown",
      "metadata": {
        "id": "view-in-github",
        "colab_type": "text"
      },
      "source": [
        "<a href=\"https://colab.research.google.com/github/ahatasham5/Breast_Cancer_Prognosis/blob/main/test_base.ipynb\" target=\"_parent\"><img src=\"https://colab.research.google.com/assets/colab-badge.svg\" alt=\"Open In Colab\"/></a>"
      ]
    },
    {
      "cell_type": "code",
      "source": [
        "import torch\n",
        "import torch.nn as nn\n",
        "import torch.optim as optim\n",
        "from torchvision import transforms, datasets\n",
        "from torch.utils.data import DataLoader, random_split"
      ],
      "metadata": {
        "id": "lEXqVslDmuQ2"
      },
      "execution_count": 1,
      "outputs": []
    },
    {
      "cell_type": "code",
      "source": [
        "# prompt: mount drive\n",
        "\n",
        "from google.colab import drive\n",
        "drive.mount('/content/drive')\n"
      ],
      "metadata": {
        "colab": {
          "base_uri": "https://localhost:8080/"
        },
        "id": "jNXdhNaWmvel",
        "outputId": "f890156e-41db-4f78-9a4e-51ed7348be9e"
      },
      "execution_count": 2,
      "outputs": [
        {
          "output_type": "stream",
          "name": "stdout",
          "text": [
            "Mounted at /content/drive\n"
          ]
        }
      ]
    },
    {
      "cell_type": "code",
      "source": [
        "ls"
      ],
      "metadata": {
        "colab": {
          "base_uri": "https://localhost:8080/"
        },
        "id": "Cj_KzjXYm5df",
        "outputId": "c6ed317d-9349-4ad0-a23a-db0e35cf74a2"
      },
      "execution_count": 3,
      "outputs": [
        {
          "output_type": "stream",
          "name": "stdout",
          "text": [
            "\u001b[0m\u001b[01;34mdrive\u001b[0m/  \u001b[01;34msample_data\u001b[0m/\n"
          ]
        }
      ]
    },
    {
      "cell_type": "code",
      "source": [
        "%cd /content/drive/MyDrive/Dataset/"
      ],
      "metadata": {
        "colab": {
          "base_uri": "https://localhost:8080/"
        },
        "id": "PoHf33TwnM0A",
        "outputId": "edd47d22-145f-41ff-88f5-21872eb46e1b"
      },
      "execution_count": 4,
      "outputs": [
        {
          "output_type": "stream",
          "name": "stdout",
          "text": [
            "/content/drive/MyDrive/Dataset\n"
          ]
        }
      ]
    },
    {
      "cell_type": "code",
      "source": [
        "ls"
      ],
      "metadata": {
        "colab": {
          "base_uri": "https://localhost:8080/"
        },
        "id": "1YvpBQINnPRL",
        "outputId": "67db7e09-c461-433e-fc5d-53da386dd64c"
      },
      "execution_count": 5,
      "outputs": [
        {
          "output_type": "stream",
          "name": "stdout",
          "text": [
            "\u001b[0m\u001b[01;34m'Biglycan breast cancer dataset'\u001b[0m/   model_checkpoint.pth       model_weights.pth\n",
            " checkpoint.pth                     model_checkpoint_vgg.pth\n"
          ]
        }
      ]
    },
    {
      "cell_type": "code",
      "source": [
        "# Define your dataset directory\n",
        "dataset_dir = \"Biglycan breast cancer dataset\""
      ],
      "metadata": {
        "id": "c3iFQ5OKnTyq"
      },
      "execution_count": 6,
      "outputs": []
    },
    {
      "cell_type": "code",
      "source": [
        "# Data transformations\n",
        "transform = transforms.Compose([\n",
        "    transforms.Resize((224, 224)),\n",
        "    transforms.ToTensor(),\n",
        "    transforms.Normalize([0.485, 0.456, 0.406], [0.229, 0.224, 0.225])\n",
        "])\n",
        "\n",
        "# Load the dataset\n",
        "dataset = datasets.ImageFolder(dataset_dir, transform=transform)\n",
        "\n",
        "# Split into train and validation sets (80/20 split)\n",
        "train_size = int(0.8 * len(dataset))\n",
        "val_size = len(dataset) - train_size\n",
        "train_dataset, val_dataset = random_split(dataset, [train_size, val_size])\n",
        "\n",
        "# Create DataLoaders\n",
        "train_loader = DataLoader(train_dataset, batch_size=32, shuffle=True)\n",
        "val_loader = DataLoader(val_dataset, batch_size=32, shuffle=False)"
      ],
      "metadata": {
        "id": "5m65O_XunZbs"
      },
      "execution_count": 7,
      "outputs": []
    },
    {
      "cell_type": "code",
      "execution_count": 14,
      "metadata": {
        "id": "-iCRWv7zmXYC"
      },
      "outputs": [],
      "source": [
        "# Define the CNN architecture\n",
        "class SimpleCNN(nn.Module):\n",
        "    def __init__(self):\n",
        "        super(SimpleCNN, self).__init__()\n",
        "        self.conv1 = nn.Conv2d(3, 32, kernel_size=3, padding=1)\n",
        "        self.relu1 = nn.ReLU()\n",
        "        self.maxpool1 = nn.MaxPool2d(2, 2)\n",
        "\n",
        "        self.conv2 = nn.Conv2d(32, 64, kernel_size=3, padding=1)\n",
        "        self.relu2 = nn.ReLU()\n",
        "        self.maxpool2 = nn.MaxPool2d(2, 2)\n",
        "\n",
        "        self.conv3 = nn.Conv2d(64, 128, kernel_size=3, padding=1)\n",
        "        self.relu3 = nn.ReLU()\n",
        "        self.maxpool3 = nn.MaxPool2d(2, 2)\n",
        "\n",
        "        self.flatten = nn.Flatten()\n",
        "        self.fc1 = nn.Linear(128 * 28 * 28, 128)\n",
        "        self.relu4 = nn.ReLU()\n",
        "        self.fc2 = nn.Linear(128, 1)  # Output layer for binary classification\n",
        "\n",
        "    def forward(self, x):\n",
        "        x = self.conv1(x)\n",
        "        x = self.relu1(x)\n",
        "        x = self.maxpool1(x)\n",
        "\n",
        "        x = self.conv2(x)\n",
        "        x = self.relu2(x)\n",
        "        x = self.maxpool2(x)\n",
        "\n",
        "        x = self.conv3(x)\n",
        "        x = self.relu3(x)\n",
        "        x = self.maxpool3(x)  # Apply the third max pooling\n",
        "\n",
        "        x = self.flatten(x)  # Flatten the output\n",
        "\n",
        "        x = self.fc1(x)\n",
        "        x = self.relu4(x)\n",
        "        x = self.fc2(x)  # Output of the final fully connected layer\n",
        "        return x"
      ]
    },
    {
      "cell_type": "code",
      "source": [
        "model = SimpleCNN()"
      ],
      "metadata": {
        "id": "b2JUd8v5nomJ"
      },
      "execution_count": 15,
      "outputs": []
    },
    {
      "cell_type": "code",
      "source": [
        "device = torch.device(\"cuda\" if torch.cuda.is_available() else \"cpu\")\n",
        "model = model.to(device)"
      ],
      "metadata": {
        "id": "xi5av6h3nsf9"
      },
      "execution_count": 16,
      "outputs": []
    },
    {
      "cell_type": "code",
      "source": [
        "criterion = nn.BCEWithLogitsLoss()  # Binary Cross Entropy with Logits loss for binary classification\n",
        "optimizer = optim.Adam(model.parameters(), lr=0.001) # You can try different optimizers and learning rates"
      ],
      "metadata": {
        "id": "h63i754hnu5D"
      },
      "execution_count": 17,
      "outputs": []
    },
    {
      "cell_type": "code",
      "source": [
        "num_epochs = 100  # Define the number of epochs\n",
        "for epoch in range(num_epochs):\n",
        "    model.train()  # Set model to training mode\n",
        "    running_loss = 0.0\n",
        "\n",
        "    for inputs, labels in train_loader:\n",
        "        inputs, labels = inputs.to(device), labels.to(device)\n",
        "\n",
        "        optimizer.zero_grad()  # Zero the parameter gradients\n",
        "\n",
        "        outputs = model(inputs)  # Forward pass\n",
        "        loss = criterion(outputs, labels.unsqueeze(1).type_as(outputs))  # Calculate loss\n",
        "        loss.backward()  # Backward pass\n",
        "        optimizer.step()  # Optimize\n",
        "\n",
        "        running_loss += loss.item()\n",
        "\n",
        "    print(f\"Epoch {epoch+1}, Loss: {running_loss/len(train_loader)}\")\n",
        "\n",
        "# After training for some epochs\n",
        "torch.save(model.state_dict(), 'model_weights_base.pth')"
      ],
      "metadata": {
        "colab": {
          "base_uri": "https://localhost:8080/"
        },
        "id": "TFOPltIEn0zn",
        "outputId": "333aa71b-bba3-428c-9b1b-b6ebd905590d"
      },
      "execution_count": 18,
      "outputs": [
        {
          "output_type": "stream",
          "name": "stdout",
          "text": [
            "Epoch 1, Loss: 1.2428968879911635\n",
            "Epoch 2, Loss: 0.6977316472265456\n",
            "Epoch 3, Loss: 0.68204755253262\n",
            "Epoch 4, Loss: 0.6528486477004157\n",
            "Epoch 5, Loss: 0.6795180506176419\n",
            "Epoch 6, Loss: 0.6457771327760484\n",
            "Epoch 7, Loss: 0.6705374519030253\n",
            "Epoch 8, Loss: 0.6763460040092468\n",
            "Epoch 9, Loss: 0.6966735323270162\n",
            "Epoch 10, Loss: 0.6423914035161337\n",
            "Epoch 11, Loss: 0.6555303666326735\n",
            "Epoch 12, Loss: 0.6638561288515726\n",
            "Epoch 13, Loss: 0.644227061006758\n",
            "Epoch 14, Loss: 0.6512995494736565\n",
            "Epoch 15, Loss: 0.6470589836438497\n",
            "Epoch 16, Loss: 0.6407503883043925\n",
            "Epoch 17, Loss: 0.6327785054842631\n",
            "Epoch 18, Loss: 0.6363672349188063\n",
            "Epoch 19, Loss: 0.595253500673506\n",
            "Epoch 20, Loss: 0.5931703646977743\n",
            "Epoch 21, Loss: 0.598042799366845\n",
            "Epoch 22, Loss: 0.49049653278456795\n",
            "Epoch 23, Loss: 0.4067525267601013\n",
            "Epoch 24, Loss: 0.6404358314143287\n",
            "Epoch 25, Loss: 1.1282894015312195\n",
            "Epoch 26, Loss: 0.6503024763531156\n",
            "Epoch 27, Loss: 0.686647031042311\n",
            "Epoch 28, Loss: 0.660409324698978\n",
            "Epoch 29, Loss: 0.6621047721968757\n",
            "Epoch 30, Loss: 0.6530014144049751\n",
            "Epoch 31, Loss: 0.6449389325247871\n",
            "Epoch 32, Loss: 0.638341850704617\n",
            "Epoch 33, Loss: 0.6331843932469686\n",
            "Epoch 34, Loss: 0.6427897016207377\n",
            "Epoch 35, Loss: 0.6482043729888068\n",
            "Epoch 36, Loss: 0.641721506913503\n",
            "Epoch 37, Loss: 0.6407949924468994\n",
            "Epoch 38, Loss: 0.62830075290468\n",
            "Epoch 39, Loss: 0.6253891719712151\n",
            "Epoch 40, Loss: 0.5924673510922326\n",
            "Epoch 41, Loss: 0.5959386494424608\n",
            "Epoch 42, Loss: 0.5553911361429427\n",
            "Epoch 43, Loss: 0.5768769250975715\n",
            "Epoch 44, Loss: 0.5314668979909685\n",
            "Epoch 45, Loss: 0.544614573319753\n",
            "Epoch 46, Loss: 0.503612670633528\n",
            "Epoch 47, Loss: 0.48014923599031234\n",
            "Epoch 48, Loss: 0.38899047838317025\n",
            "Epoch 49, Loss: 0.31147205498483443\n",
            "Epoch 50, Loss: 0.25279241303602856\n",
            "Epoch 51, Loss: 0.21953318723373944\n",
            "Epoch 52, Loss: 0.8155144386821322\n",
            "Epoch 53, Loss: 0.6065143876605563\n",
            "Epoch 54, Loss: 0.5987923542658488\n",
            "Epoch 55, Loss: 0.5944872630967034\n",
            "Epoch 56, Loss: 0.5857455333073934\n",
            "Epoch 57, Loss: 0.559309227599038\n",
            "Epoch 58, Loss: 0.5673445529407926\n",
            "Epoch 59, Loss: 0.5552828047010634\n",
            "Epoch 60, Loss: 0.5236774616771274\n",
            "Epoch 61, Loss: 0.5352907909287347\n",
            "Epoch 62, Loss: 0.4827840162648095\n",
            "Epoch 63, Loss: 0.4441843099064297\n",
            "Epoch 64, Loss: 0.37613176306088764\n",
            "Epoch 65, Loss: 0.34341522057851154\n",
            "Epoch 66, Loss: 0.36307201120588517\n",
            "Epoch 67, Loss: 0.4903747472498152\n",
            "Epoch 68, Loss: 0.9087494081921048\n",
            "Epoch 69, Loss: 0.6407128837373521\n",
            "Epoch 70, Loss: 0.6235340436299642\n",
            "Epoch 71, Loss: 0.6219401227103339\n",
            "Epoch 72, Loss: 0.6173225707477994\n",
            "Epoch 73, Loss: 0.6247409052318997\n",
            "Epoch 74, Loss: 0.6168544226222568\n",
            "Epoch 75, Loss: 0.6128073268466525\n",
            "Epoch 76, Loss: 0.6215021279123094\n",
            "Epoch 77, Loss: 0.610906547970242\n",
            "Epoch 78, Loss: 0.6056879758834839\n",
            "Epoch 79, Loss: 0.6164609524938796\n",
            "Epoch 80, Loss: 0.6038595106866624\n",
            "Epoch 81, Loss: 0.6027988195419312\n",
            "Epoch 82, Loss: 0.6016926632987128\n",
            "Epoch 83, Loss: 0.5867049031787448\n",
            "Epoch 84, Loss: 0.5899933841493394\n",
            "Epoch 85, Loss: 0.5567839609252082\n",
            "Epoch 86, Loss: 0.5477084815502167\n",
            "Epoch 87, Loss: 0.6279259655210707\n",
            "Epoch 88, Loss: 0.5479523340861002\n",
            "Epoch 89, Loss: 0.5564221143722534\n",
            "Epoch 90, Loss: 0.5389870670106676\n",
            "Epoch 91, Loss: 0.49677077266905045\n",
            "Epoch 92, Loss: 0.4914214180575477\n",
            "Epoch 93, Loss: 0.4928787218199836\n",
            "Epoch 94, Loss: 0.5460202826393975\n",
            "Epoch 95, Loss: 0.6690580050150553\n",
            "Epoch 96, Loss: 0.5559547543525696\n",
            "Epoch 97, Loss: 0.5363500912984213\n",
            "Epoch 98, Loss: 0.5381166868739657\n",
            "Epoch 99, Loss: 0.5237190922101339\n",
            "Epoch 100, Loss: 0.5012431542078654\n"
          ]
        }
      ]
    },
    {
      "cell_type": "code",
      "source": [
        "import torch\n",
        "import torch.nn as nn\n",
        "import torch.optim as optim\n",
        "from torchvision import transforms, datasets\n",
        "from torch.utils.data import DataLoader, random_split\n",
        "from sklearn.metrics import classification_report, confusion_matrix, roc_auc_score, accuracy_score, precision_score, recall_score, f1_score\n",
        "import matplotlib.pyplot as plt\n",
        "from sklearn.metrics import roc_curve, auc\n"
      ],
      "metadata": {
        "id": "XJ4XKCyQsB8E"
      },
      "execution_count": 35,
      "outputs": []
    },
    {
      "cell_type": "code",
      "source": [
        "# Evaluation loop\n",
        "model.eval()  # Set the model to evaluation mode\n",
        "all_preds = []\n",
        "all_targets = []\n",
        "all_probs = []  # Collect all probabilities\n",
        "\n",
        "with torch.no_grad():\n",
        "    for inputs, labels in val_loader:\n",
        "        inputs, labels = inputs.to(device), labels.to(device)\n",
        "        outputs = model(inputs)\n",
        "\n",
        "        # Apply sigmoid since we used BCEWithLogitsLoss\n",
        "        predicted_probs = torch.sigmoid(outputs)\n",
        "\n",
        "        # Convert probabilities to predicted class (0 or 1)\n",
        "        predicted = predicted_probs > 0.5\n",
        "\n",
        "        # Move tensors to CPU before converting to NumPy\n",
        "        all_preds.extend(predicted.cpu().numpy())\n",
        "        all_targets.extend(labels.cpu().numpy())\n",
        "        all_probs.extend(predicted_probs.cpu().numpy().flatten())  # Flatten the probabilities"
      ],
      "metadata": {
        "id": "SnDX22lqrbPP"
      },
      "execution_count": 40,
      "outputs": []
    },
    {
      "cell_type": "code",
      "source": [
        "# Calculate and print evaluation metrics\n",
        "print(\"Confusion Matrix:\")\n",
        "print(confusion_matrix(all_targets, np.array(all_preds)))\n",
        "\n",
        "print(\"\\nClassification Report:\")\n",
        "print(classification_report(all_targets, np.array(all_preds), target_names=['Healthy', 'Cancerous']))\n",
        "\n",
        "accuracy = accuracy_score(all_targets, all_preds) # Remove the loop for accuracy\n",
        "precision = precision_score(all_targets, all_preds)\n",
        "recall = recall_score(all_targets, all_preds)\n",
        "f1 = f1_score(all_targets, all_preds)\n",
        "\n",
        "print(f\"Accuracy: {accuracy * 100:.2f}%\")\n",
        "print(f\"Precision: {precision * 100:.2f}%\")\n",
        "print(f\"Recall: {recall * 100:.2f}%\")\n",
        "print(f\"F1 Score: {f1 * 100:.2f}%\")\n",
        "\n",
        "# AUC calculation\n",
        "auc_value = roc_auc_score(all_targets, np.array(all_probs))\n",
        "print(f\"AUC: {auc_value:.2f}\")\n",
        "\n",
        "# Plot the ROC curve\n",
        "fpr, tpr, thresholds = roc_curve(all_targets, all_probs)  # Use all_probs directly\n",
        "roc_auc = roc_auc_score(all_targets, np.array(all_probs)) # Calculate the area under the curve\n",
        "\n",
        "\n",
        "plt.figure()\n",
        "plt.plot(fpr, tpr, color='darkorange', label='ROC curve (area = %0.2f)' % roc_auc)\n",
        "plt.plot([0, 1], [0, 1], color='navy', linestyle='--')\n",
        "plt.xlim([0.0, 1.0])\n",
        "plt.ylim([0.0, 1.05])\n",
        "plt.xlabel('False Positive Rate')\n",
        "plt.ylabel('True Positive Rate')\n",
        "plt.title('Receiver Operating Characteristic (ROC) Curve')\n",
        "plt.legend(loc=\"lower right\")\n",
        "plt.show()"
      ],
      "metadata": {
        "colab": {
          "base_uri": "https://localhost:8080/",
          "height": 816
        },
        "id": "jHmTV7TPvXZC",
        "outputId": "e1f7f31b-9645-46a5-a104-54ec3c78006a"
      },
      "execution_count": 45,
      "outputs": [
        {
          "output_type": "stream",
          "name": "stdout",
          "text": [
            "Confusion Matrix:\n",
            "[[36  4]\n",
            " [25  3]]\n",
            "\n",
            "Classification Report:\n",
            "              precision    recall  f1-score   support\n",
            "\n",
            "     Healthy       0.59      0.90      0.71        40\n",
            "   Cancerous       0.43      0.11      0.17        28\n",
            "\n",
            "    accuracy                           0.57        68\n",
            "   macro avg       0.51      0.50      0.44        68\n",
            "weighted avg       0.52      0.57      0.49        68\n",
            "\n",
            "Accuracy: 57.35%\n",
            "Precision: 42.86%\n",
            "Recall: 10.71%\n",
            "F1 Score: 17.14%\n",
            "AUC: 0.69\n"
          ]
        },
        {
          "output_type": "display_data",
          "data": {
            "text/plain": [
              "<Figure size 640x480 with 1 Axes>"
            ],
            "image/png": "[encoded data removed]"
          },
          "metadata": {}
        }
      ]
    }
  ]
}